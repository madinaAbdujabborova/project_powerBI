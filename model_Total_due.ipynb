{
 "cells": [
  {
   "cell_type": "code",
   "execution_count": 47,
   "metadata": {},
   "outputs": [],
   "source": [
    "import pandas as pd\n",
    "import matplotlib.pyplot as plt\n",
    "import numpy as np\n",
    "from sklearn.model_selection import train_test_split\n",
    "from sklearn.linear_model import LinearRegression\n",
    "from sklearn.metrics import mean_squared_error,mean_absolute_error,median_absolute_error, r2_score, root_mean_squared_error"
   ]
  },
  {
   "cell_type": "code",
   "execution_count": 48,
   "metadata": {},
   "outputs": [
    {
     "data": {
      "text/html": [
       "<div>\n",
       "<style scoped>\n",
       "    .dataframe tbody tr th:only-of-type {\n",
       "        vertical-align: middle;\n",
       "    }\n",
       "\n",
       "    .dataframe tbody tr th {\n",
       "        vertical-align: top;\n",
       "    }\n",
       "\n",
       "    .dataframe thead th {\n",
       "        text-align: right;\n",
       "    }\n",
       "</style>\n",
       "<table border=\"1\" class=\"dataframe\">\n",
       "  <thead>\n",
       "    <tr style=\"text-align: right;\">\n",
       "      <th></th>\n",
       "      <th>TotalDue</th>\n",
       "      <th>SubTotal</th>\n",
       "      <th>TaxAmt</th>\n",
       "      <th>Freight</th>\n",
       "      <th>OrderQty</th>\n",
       "      <th>UnitPrice</th>\n",
       "      <th>ShipMethodID</th>\n",
       "      <th>TerritoryID</th>\n",
       "      <th>CustomerID</th>\n",
       "      <th>OrderDate</th>\n",
       "    </tr>\n",
       "  </thead>\n",
       "  <tbody>\n",
       "    <tr>\n",
       "      <th>0</th>\n",
       "      <td>23153,2339</td>\n",
       "      <td>20565,6206</td>\n",
       "      <td>1971,5149</td>\n",
       "      <td>616,0984</td>\n",
       "      <td>1</td>\n",
       "      <td>2024,994</td>\n",
       "      <td>5</td>\n",
       "      <td>5</td>\n",
       "      <td>29825</td>\n",
       "      <td>2011-05-31 00:00:00.000</td>\n",
       "    </tr>\n",
       "    <tr>\n",
       "      <th>1</th>\n",
       "      <td>23153,2339</td>\n",
       "      <td>20565,6206</td>\n",
       "      <td>1971,5149</td>\n",
       "      <td>616,0984</td>\n",
       "      <td>3</td>\n",
       "      <td>2024,994</td>\n",
       "      <td>5</td>\n",
       "      <td>5</td>\n",
       "      <td>29825</td>\n",
       "      <td>2011-05-31 00:00:00.000</td>\n",
       "    </tr>\n",
       "    <tr>\n",
       "      <th>2</th>\n",
       "      <td>23153,2339</td>\n",
       "      <td>20565,6206</td>\n",
       "      <td>1971,5149</td>\n",
       "      <td>616,0984</td>\n",
       "      <td>1</td>\n",
       "      <td>2024,994</td>\n",
       "      <td>5</td>\n",
       "      <td>5</td>\n",
       "      <td>29825</td>\n",
       "      <td>2011-05-31 00:00:00.000</td>\n",
       "    </tr>\n",
       "    <tr>\n",
       "      <th>3</th>\n",
       "      <td>23153,2339</td>\n",
       "      <td>20565,6206</td>\n",
       "      <td>1971,5149</td>\n",
       "      <td>616,0984</td>\n",
       "      <td>1</td>\n",
       "      <td>2039,994</td>\n",
       "      <td>5</td>\n",
       "      <td>5</td>\n",
       "      <td>29825</td>\n",
       "      <td>2011-05-31 00:00:00.000</td>\n",
       "    </tr>\n",
       "    <tr>\n",
       "      <th>4</th>\n",
       "      <td>23153,2339</td>\n",
       "      <td>20565,6206</td>\n",
       "      <td>1971,5149</td>\n",
       "      <td>616,0984</td>\n",
       "      <td>1</td>\n",
       "      <td>2039,994</td>\n",
       "      <td>5</td>\n",
       "      <td>5</td>\n",
       "      <td>29825</td>\n",
       "      <td>2011-05-31 00:00:00.000</td>\n",
       "    </tr>\n",
       "    <tr>\n",
       "      <th>...</th>\n",
       "      <td>...</td>\n",
       "      <td>...</td>\n",
       "      <td>...</td>\n",
       "      <td>...</td>\n",
       "      <td>...</td>\n",
       "      <td>...</td>\n",
       "      <td>...</td>\n",
       "      <td>...</td>\n",
       "      <td>...</td>\n",
       "      <td>...</td>\n",
       "    </tr>\n",
       "    <tr>\n",
       "      <th>121312</th>\n",
       "      <td>34,2219</td>\n",
       "      <td>30,97</td>\n",
       "      <td>2,4776</td>\n",
       "      <td>0,7743</td>\n",
       "      <td>1</td>\n",
       "      <td>21,98</td>\n",
       "      <td>1</td>\n",
       "      <td>6</td>\n",
       "      <td>15868</td>\n",
       "      <td>2014-06-30 00:00:00.000</td>\n",
       "    </tr>\n",
       "    <tr>\n",
       "      <th>121313</th>\n",
       "      <td>34,2219</td>\n",
       "      <td>30,97</td>\n",
       "      <td>2,4776</td>\n",
       "      <td>0,7743</td>\n",
       "      <td>1</td>\n",
       "      <td>8,99</td>\n",
       "      <td>1</td>\n",
       "      <td>6</td>\n",
       "      <td>15868</td>\n",
       "      <td>2014-06-30 00:00:00.000</td>\n",
       "    </tr>\n",
       "    <tr>\n",
       "      <th>121314</th>\n",
       "      <td>209,9169</td>\n",
       "      <td>189,97</td>\n",
       "      <td>15,1976</td>\n",
       "      <td>4,7493</td>\n",
       "      <td>1</td>\n",
       "      <td>21,98</td>\n",
       "      <td>1</td>\n",
       "      <td>6</td>\n",
       "      <td>18759</td>\n",
       "      <td>2014-06-30 00:00:00.000</td>\n",
       "    </tr>\n",
       "    <tr>\n",
       "      <th>121315</th>\n",
       "      <td>209,9169</td>\n",
       "      <td>189,97</td>\n",
       "      <td>15,1976</td>\n",
       "      <td>4,7493</td>\n",
       "      <td>1</td>\n",
       "      <td>159,00</td>\n",
       "      <td>1</td>\n",
       "      <td>6</td>\n",
       "      <td>18759</td>\n",
       "      <td>2014-06-30 00:00:00.000</td>\n",
       "    </tr>\n",
       "    <tr>\n",
       "      <th>121316</th>\n",
       "      <td>209,9169</td>\n",
       "      <td>189,97</td>\n",
       "      <td>15,1976</td>\n",
       "      <td>4,7493</td>\n",
       "      <td>1</td>\n",
       "      <td>8,99</td>\n",
       "      <td>1</td>\n",
       "      <td>6</td>\n",
       "      <td>18759</td>\n",
       "      <td>2014-06-30 00:00:00.000</td>\n",
       "    </tr>\n",
       "  </tbody>\n",
       "</table>\n",
       "<p>121317 rows × 10 columns</p>\n",
       "</div>"
      ],
      "text/plain": [
       "          TotalDue    SubTotal     TaxAmt   Freight  OrderQty UnitPrice  \\\n",
       "0       23153,2339  20565,6206  1971,5149  616,0984         1  2024,994   \n",
       "1       23153,2339  20565,6206  1971,5149  616,0984         3  2024,994   \n",
       "2       23153,2339  20565,6206  1971,5149  616,0984         1  2024,994   \n",
       "3       23153,2339  20565,6206  1971,5149  616,0984         1  2039,994   \n",
       "4       23153,2339  20565,6206  1971,5149  616,0984         1  2039,994   \n",
       "...            ...         ...        ...       ...       ...       ...   \n",
       "121312     34,2219       30,97     2,4776    0,7743         1     21,98   \n",
       "121313     34,2219       30,97     2,4776    0,7743         1      8,99   \n",
       "121314    209,9169      189,97    15,1976    4,7493         1     21,98   \n",
       "121315    209,9169      189,97    15,1976    4,7493         1    159,00   \n",
       "121316    209,9169      189,97    15,1976    4,7493         1      8,99   \n",
       "\n",
       "        ShipMethodID  TerritoryID  CustomerID                OrderDate  \n",
       "0                  5            5       29825  2011-05-31 00:00:00.000  \n",
       "1                  5            5       29825  2011-05-31 00:00:00.000  \n",
       "2                  5            5       29825  2011-05-31 00:00:00.000  \n",
       "3                  5            5       29825  2011-05-31 00:00:00.000  \n",
       "4                  5            5       29825  2011-05-31 00:00:00.000  \n",
       "...              ...          ...         ...                      ...  \n",
       "121312             1            6       15868  2014-06-30 00:00:00.000  \n",
       "121313             1            6       15868  2014-06-30 00:00:00.000  \n",
       "121314             1            6       18759  2014-06-30 00:00:00.000  \n",
       "121315             1            6       18759  2014-06-30 00:00:00.000  \n",
       "121316             1            6       18759  2014-06-30 00:00:00.000  \n",
       "\n",
       "[121317 rows x 10 columns]"
      ]
     },
     "execution_count": 48,
     "metadata": {},
     "output_type": "execute_result"
    }
   ],
   "source": [
    "df = pd.read_csv(\"Total_due_modeling.csv\")\n",
    "df"
   ]
  },
  {
   "cell_type": "code",
   "execution_count": 49,
   "metadata": {},
   "outputs": [
    {
     "name": "stdout",
     "output_type": "stream",
     "text": [
      "<class 'pandas.core.frame.DataFrame'>\n",
      "RangeIndex: 121317 entries, 0 to 121316\n",
      "Data columns (total 10 columns):\n",
      " #   Column        Non-Null Count   Dtype \n",
      "---  ------        --------------   ----- \n",
      " 0   TotalDue      121317 non-null  object\n",
      " 1   SubTotal      121317 non-null  object\n",
      " 2   TaxAmt        121317 non-null  object\n",
      " 3   Freight       121317 non-null  object\n",
      " 4   OrderQty      121317 non-null  int64 \n",
      " 5   UnitPrice     121317 non-null  object\n",
      " 6   ShipMethodID  121317 non-null  int64 \n",
      " 7   TerritoryID   121317 non-null  int64 \n",
      " 8   CustomerID    121317 non-null  int64 \n",
      " 9   OrderDate     121317 non-null  object\n",
      "dtypes: int64(4), object(6)\n",
      "memory usage: 9.3+ MB\n"
     ]
    }
   ],
   "source": [
    "df.info()"
   ]
  },
  {
   "cell_type": "code",
   "execution_count": 50,
   "metadata": {},
   "outputs": [
    {
     "name": "stdout",
     "output_type": "stream",
     "text": [
      "<class 'pandas.core.frame.DataFrame'>\n",
      "RangeIndex: 121317 entries, 0 to 121316\n",
      "Data columns (total 10 columns):\n",
      " #   Column        Non-Null Count   Dtype  \n",
      "---  ------        --------------   -----  \n",
      " 0   TotalDue      121317 non-null  float64\n",
      " 1   SubTotal      121317 non-null  float64\n",
      " 2   TaxAmt        121317 non-null  float64\n",
      " 3   Freight       121317 non-null  float64\n",
      " 4   OrderQty      121317 non-null  int64  \n",
      " 5   UnitPrice     121317 non-null  float64\n",
      " 6   ShipMethodID  121317 non-null  int64  \n",
      " 7   TerritoryID   121317 non-null  int64  \n",
      " 8   CustomerID    121317 non-null  int64  \n",
      " 9   OrderDate     121317 non-null  object \n",
      "dtypes: float64(5), int64(4), object(1)\n",
      "memory usage: 9.3+ MB\n"
     ]
    }
   ],
   "source": [
    "ls = [\"TotalDue\", \"SubTotal\", \"TaxAmt\", \"Freight\", \"UnitPrice\"]\n",
    "\n",
    "for i in ls:\n",
    "    df[i] = df[i].str.replace(',', '').astype(float)\n",
    "\n",
    "df.info()"
   ]
  },
  {
   "cell_type": "code",
   "execution_count": 51,
   "metadata": {},
   "outputs": [],
   "source": [
    "cols = [\"OrderQty\",\"UnitPrice\", \"ShipMethodID\", \"TerritoryID\"]\n",
    "X = df[cols]\n",
    "y = df['TotalDue']"
   ]
  },
  {
   "cell_type": "code",
   "execution_count": 52,
   "metadata": {},
   "outputs": [
    {
     "data": {
      "text/plain": [
       "np.float64(224199756.07965082)"
      ]
     },
     "execution_count": 52,
     "metadata": {},
     "output_type": "execute_result"
    }
   ],
   "source": [
    "y.mean()"
   ]
  },
  {
   "cell_type": "code",
   "execution_count": 53,
   "metadata": {},
   "outputs": [
    {
     "data": {
      "text/plain": [
       "((84921, 4), (36396, 4))"
      ]
     },
     "execution_count": 53,
     "metadata": {},
     "output_type": "execute_result"
    }
   ],
   "source": [
    "X_train, X_test, y_train, y_test = train_test_split(X, y, test_size=0.3, random_state=0)\n",
    "X_train.shape, X_test.shape"
   ]
  },
  {
   "cell_type": "code",
   "execution_count": 54,
   "metadata": {},
   "outputs": [
    {
     "data": {
      "text/plain": [
       "(np.float64(128247059.32089786), 0.4963813623721257)"
      ]
     },
     "execution_count": 54,
     "metadata": {},
     "output_type": "execute_result"
    }
   ],
   "source": [
    "model = LinearRegression()\n",
    "model.fit(X_train, y_train)\n",
    "y_pred = model.predict(X_test)\n",
    "MAE = mean_absolute_error(y_test, y_pred)\n",
    "r2 = r2_score(y_test, y_pred)\n",
    "MAE, r2"
   ]
  }
 ],
 "metadata": {
  "kernelspec": {
   "display_name": "Python 3",
   "language": "python",
   "name": "python3"
  },
  "language_info": {
   "codemirror_mode": {
    "name": "ipython",
    "version": 3
   },
   "file_extension": ".py",
   "mimetype": "text/x-python",
   "name": "python",
   "nbconvert_exporter": "python",
   "pygments_lexer": "ipython3",
   "version": "3.9.6"
  }
 },
 "nbformat": 4,
 "nbformat_minor": 2
}
